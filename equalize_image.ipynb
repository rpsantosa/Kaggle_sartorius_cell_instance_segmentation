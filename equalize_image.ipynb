{
 "cells": [
  {
   "cell_type": "code",
   "execution_count": 1,
   "outputs": [
    {
     "data": {
      "text/plain": "<Logger detectron2 (DEBUG)>"
     },
     "execution_count": 1,
     "metadata": {},
     "output_type": "execute_result"
    }
   ],
   "source": [
    "import torch\n",
    "import detectron2\n",
    "#from pathlib import Path\n",
    "import random, cv2, os\n",
    "import matplotlib.pyplot as plt\n",
    "import numpy as np\n",
    "import pycocotools.mask as mask_util\n",
    "# import some common detectron2 utilities\n",
    "from detectron2 import model_zoo\n",
    "from detectron2.engine import DefaultPredictor, DefaultTrainer\n",
    "from detectron2.config import get_cfg\n",
    "from detectron2.utils.visualizer import Visualizer, ColorMode\n",
    "from detectron2.data import MetadataCatalog, DatasetCatalog\n",
    "from detectron2.data.datasets import register_coco_instances\n",
    "from detectron2.utils.logger import setup_logger\n",
    "from detectron2.evaluation.evaluator import DatasetEvaluator\n",
    "from skimage.exposure import equalize_adapthist\n",
    "import pandas as pd\n",
    "from fastcore.all import *\n",
    "\n",
    "setup_logger()"
   ],
   "metadata": {
    "collapsed": false,
    "pycharm": {
     "name": "#%%\n"
    }
   }
  },
  {
   "cell_type": "code",
   "execution_count": 31,
   "metadata": {
    "collapsed": true
   },
   "outputs": [
    {
     "ename": "NameError",
     "evalue": "name 'tf' is not defined",
     "output_type": "error",
     "traceback": [
      "\u001B[1;31m---------------------------------------------------------------------------\u001B[0m",
      "\u001B[1;31mNameError\u001B[0m                                 Traceback (most recent call last)",
      "\u001B[1;32m~\\AppData\\Local\\Temp/ipykernel_16364/4251053002.py\u001B[0m in \u001B[0;36m<module>\u001B[1;34m\u001B[0m\n\u001B[0;32m     26\u001B[0m \u001B[1;31m# train_files = os.listdir( os.path.join(dataDir,'train'))\u001B[0m\u001B[1;33m\u001B[0m\u001B[1;33m\u001B[0m\u001B[1;33m\u001B[0m\u001B[0m\n\u001B[0;32m     27\u001B[0m \u001B[1;31m# train_files = [os.path.join(dataDir,'train',x) for x in train_files ]\u001B[0m\u001B[1;33m\u001B[0m\u001B[1;33m\u001B[0m\u001B[1;33m\u001B[0m\u001B[0m\n\u001B[1;32m---> 28\u001B[1;33m \u001B[0mim\u001B[0m \u001B[1;33m=\u001B[0m  \u001B[1;33m(\u001B[0m \u001B[0mtf\u001B[0m\u001B[1;33m.\u001B[0m\u001B[0mio\u001B[0m\u001B[1;33m.\u001B[0m\u001B[0mgfile\u001B[0m\u001B[1;33m.\u001B[0m\u001B[0mglob\u001B[0m\u001B[1;33m(\u001B[0m\u001B[0mDATA_DIR\u001B[0m \u001B[1;33m+\u001B[0m \u001B[1;34m'/train/*.png'\u001B[0m\u001B[1;33m)\u001B[0m \u001B[1;33m)\u001B[0m\u001B[1;33m\u001B[0m\u001B[1;33m\u001B[0m\u001B[0m\n\u001B[0m\u001B[0;32m     29\u001B[0m \u001B[1;33m\u001B[0m\u001B[0m\n\u001B[0;32m     30\u001B[0m \u001B[0mtrain_data\u001B[0m \u001B[1;33m=\u001B[0m \u001B[0mpd\u001B[0m\u001B[1;33m.\u001B[0m\u001B[0mread_csv\u001B[0m\u001B[1;33m(\u001B[0m\u001B[0mos\u001B[0m\u001B[1;33m.\u001B[0m\u001B[0mpath\u001B[0m\u001B[1;33m.\u001B[0m\u001B[0mjoin\u001B[0m\u001B[1;33m(\u001B[0m\u001B[0mdataDir\u001B[0m\u001B[1;33m,\u001B[0m\u001B[1;34m'train.csv'\u001B[0m\u001B[1;33m)\u001B[0m \u001B[1;33m)\u001B[0m\u001B[1;33m\u001B[0m\u001B[1;33m\u001B[0m\u001B[0m\n",
      "\u001B[1;31mNameError\u001B[0m: name 'tf' is not defined"
     ]
    }
   ],
   "source": [
    "# class ImageEqualize:\n",
    "#     def __init__(self, clip_limit, difference):\n",
    "#         self._clip_limit = clip_limit\n",
    "#         self._difference = difference\n",
    "# \n",
    "#     def equalize(self, img):\n",
    "#         img = np.array(img)\n",
    "#         eimg = equalize_adapthist(img, clip_limit=self._clip_limit)\n",
    "# \n",
    "#         if self._difference:\n",
    "#             img = img - eimg\n",
    "#             img = img - img.min()\n",
    "#             img = img / img.max()\n",
    "#         else:\n",
    "#             return eimg\n",
    "# \n",
    "#     def __call__(self, image, target):\n",
    "#         return self.equalize(image), target\n",
    "MODELS = \"./model_permodel\"\n",
    "MODEL_CLASS = \"./output2/\"\n",
    "models =  os.listdir(MODELS)\n",
    "\n",
    "classmap = {'1': 'shsy5y','2':   'astro' , '3' : 'cort'}\n",
    "classmap [ str(1)]\n",
    "dataDir= ('C:/kaggletemp/sartorius-cell-instance-segmentation/')\n",
    "# train_files = os.listdir( os.path.join(dataDir,'train'))\n",
    "# train_files = [os.path.join(dataDir,'train',x) for x in train_files ]\n",
    "im =  os.listdir(  )\n",
    "\n",
    "train_data = pd.read_csv(os.path.join(dataDir,'train.csv') )\n",
    "data = { 'img' : im }#, 'mask' : ms}\n",
    "df= pd.DataFrame(data= data)\n",
    "\n",
    "# merge types:\n",
    "\n",
    "df['id']  = df.img.map(lambda a:  os.path.split(a)[1].split(\".png\")[0])\n",
    "df['type'] = df.id.map(aux_train.set_index('id').cell_type )\n",
    "df.head()"
   ]
  },
  {
   "cell_type": "code",
   "execution_count": 3,
   "outputs": [],
   "source": [
    "\n",
    "cfg = get_cfg()\n",
    "cfg.merge_from_file(model_zoo.get_config_file(\"COCO-InstanceSegmentation/mask_rcnn_R_101_FPN_3x.yaml\" ))\n",
    "cfg.INPUT.MASK_FORMAT='bitmask'\n",
    "cfg.MODEL.ROI_HEADS.NUM_CLASSES = 3\n",
    "cfg.MODEL.WEIGHTS = os.path.join('./output2', \"model_final.pth\")\n",
    "cfg.TEST.DETECTIONS_PER_IMAGE = 1000\n",
    "predictor = DefaultPredictor(cfg)\n",
    "THRESHOLDS = [.15, .35, .55]\n",
    "MIN_PIXELS = [75, 150, 75]\n",
    "\n",
    "predictor_class = DefaultPredictor(cfg)"
   ],
   "metadata": {
    "collapsed": false,
    "pycharm": {
     "name": "#%%\n"
    }
   }
  },
  {
   "cell_type": "code",
   "execution_count": 4,
   "outputs": [],
   "source": [
    "cfg_astro = get_cfg()\n",
    "cfg_astro.merge_from_file(model_zoo.get_config_file(\"COCO-InstanceSegmentation/mask_rcnn_R_101_FPN_3x.yaml\" ))\n",
    "cfg_astro.INPUT.MASK_FORMAT='bitmask'\n",
    "cfg_astro.MODEL.ROI_HEADS.NUM_CLASSES = 1\n",
    "cfg_astro.MODEL.WEIGHTS = os.path.join('./model_permodel', \"model_astro.pth\")\n",
    "cfg_astro.TEST.DETECTIONS_PER_IMAGE = 1000\n",
    "predictor = DefaultPredictor(cfg_astro)\n",
    "THRESHOLDS = [.15, .35, .55]\n",
    "MIN_PIXELS = [75, 150, 75]\n",
    "\n",
    "predictor_astro = DefaultPredictor(cfg_astro)\n"
   ],
   "metadata": {
    "collapsed": false,
    "pycharm": {
     "name": "#%%\n"
    }
   }
  },
  {
   "cell_type": "code",
   "execution_count": 5,
   "outputs": [],
   "source": [
    "cfg_cort = get_cfg()\n",
    "cfg_cort.merge_from_file(model_zoo.get_config_file(\"COCO-InstanceSegmentation/mask_rcnn_R_101_FPN_3x.yaml\" ))\n",
    "cfg_cort.INPUT.MASK_FORMAT='bitmask'\n",
    "cfg_cort.MODEL.ROI_HEADS.NUM_CLASSES = 1\n",
    "cfg_cort.MODEL.WEIGHTS = os.path.join('./model_permodel', \"model_cort.pth\")\n",
    "cfg_cort.TEST.DETECTIONS_PER_IMAGE = 1000\n",
    "predictor = DefaultPredictor(cfg_cort)\n",
    "THRESHOLDS = [.15, .35, .55]\n",
    "MIN_PIXELS = [75, 150, 75]\n",
    "\n",
    "predictor_cort = DefaultPredictor(cfg_cort)\n"
   ],
   "metadata": {
    "collapsed": false,
    "pycharm": {
     "name": "#%%\n"
    }
   }
  },
  {
   "cell_type": "code",
   "execution_count": 6,
   "outputs": [],
   "source": [
    "cfg_shsy5y = get_cfg()\n",
    "cfg_shsy5y.merge_from_file(model_zoo.get_config_file(\"COCO-InstanceSegmentation/mask_rcnn_R_101_FPN_3x.yaml\" ))\n",
    "cfg_shsy5y.INPUT.MASK_FORMAT='bitmask'\n",
    "cfg_shsy5y.MODEL.ROI_HEADS.NUM_CLASSES = 1\n",
    "cfg_shsy5y.MODEL.WEIGHTS = os.path.join('./model_permodel', \"model_shsy5y.pth\")\n",
    "cfg_shsy5y.TEST.DETECTIONS_PER_IMAGE = 1000\n",
    "predictor = DefaultPredictor(cfg_shsy5y)\n",
    "THRESHOLDS = [.15, .35, .55]\n",
    "MIN_PIXELS = [75, 150, 75]\n",
    "\n",
    "predictor_shsy5y= DefaultPredictor(cfg_shsy5y)\n"
   ],
   "metadata": {
    "collapsed": false,
    "pycharm": {
     "name": "#%%\n"
    }
   }
  },
  {
   "cell_type": "code",
   "execution_count": 7,
   "outputs": [],
   "source": [
    "# From https://www.kaggle.com/stainsby/fast-tested-rle\n",
    "def rle_decode(mask_rle, shape=(520, 704)):\n",
    "    '''\n",
    "    mask_rle: run-length as string formated (start length)\n",
    "    shape: (height,width) of array to return\n",
    "    Returns numpy array, 1 - mask, 0 - background\n",
    "\n",
    "    '''\n",
    "    s = mask_rle.split()\n",
    "    starts, lengths = [np.asarray(x, dtype=int) for x in (s[0:][::2], s[1:][::2])]\n",
    "    starts -= 1\n",
    "    ends = starts + lengths\n",
    "    img = np.zeros(shape[0]*shape[1], dtype=np.uint8)\n",
    "    for lo, hi in zip(starts, ends):\n",
    "        img[lo:hi] = 1\n",
    "    return img.reshape(shape)  # Needed to align to RLE direction\n",
    "\n",
    "def rle_encode(img):\n",
    "    '''\n",
    "    img: numpy array, 1 - mask, 0 - background\n",
    "    Returns run length as string formated\n",
    "    '''\n",
    "    pixels = img.flatten()\n",
    "    pixels = np.concatenate([[0], pixels, [0]])\n",
    "    runs = np.where(pixels[1:] != pixels[:-1])[0] + 1\n",
    "    runs[1::2] -= runs[::2]\n",
    "    return ' '.join(str(x) for x in runs)\n",
    "\n",
    "def get_masks(fn, predictor):\n",
    "    im = cv2.imread(str(fn))\n",
    "    pred = predictor(im)\n",
    "    pred_class = torch.mode(pred['instances'].pred_classes)[0]\n",
    "    take = pred['instances'].scores >= THRESHOLDS[pred_class]\n",
    "    pred_masks = pred['instances'].pred_masks[take]\n",
    "    pred_masks = pred_masks.cpu().numpy()\n",
    "    res = []\n",
    "    used = np.zeros(im.shape[:2], dtype=int)\n",
    "    for mask in pred_masks:\n",
    "        mask = mask * (1-used)\n",
    "        if mask.sum() >= MIN_PIXELS[pred_class]: # skip predictions with small area\n",
    "            used += mask\n",
    "            res.append(rle_encode(mask))\n",
    "    return res"
   ],
   "metadata": {
    "collapsed": false,
    "pycharm": {
     "name": "#%%\n"
    }
   }
  },
  {
   "cell_type": "code",
   "execution_count": 8,
   "outputs": [
    {
     "name": "stdout",
     "output_type": "stream",
     "text": [
      "             id cell_type  classid\n",
      "0  0030fd0e6378    shsy5y        1\n",
      "1  0140b3c8f445     astro        2\n",
      "2  01ae5a43a2ab      cort        3\n",
      "3  026b3c2c4b32      cort        3\n",
      "4  029e5b3b89c7      cort        3\n",
      "5  0323e81d23d9      cort        3\n",
      "6  03b27b381a5f      cort        3\n",
      "7  042c17cd9143    shsy5y        1\n",
      "8  042dc0e561a4    shsy5y        1\n",
      "9  04928f0866b0      cort        3\n"
     ]
    },
    {
     "data": {
      "text/plain": "          id  cell_type\nclassid                \n1        155        155\n2        131        131\n3        320        320",
      "text/html": "<div>\n<style scoped>\n    .dataframe tbody tr th:only-of-type {\n        vertical-align: middle;\n    }\n\n    .dataframe tbody tr th {\n        vertical-align: top;\n    }\n\n    .dataframe thead th {\n        text-align: right;\n    }\n</style>\n<table border=\"1\" class=\"dataframe\">\n  <thead>\n    <tr style=\"text-align: right;\">\n      <th></th>\n      <th>id</th>\n      <th>cell_type</th>\n    </tr>\n    <tr>\n      <th>classid</th>\n      <th></th>\n      <th></th>\n    </tr>\n  </thead>\n  <tbody>\n    <tr>\n      <th>1</th>\n      <td>155</td>\n      <td>155</td>\n    </tr>\n    <tr>\n      <th>2</th>\n      <td>131</td>\n      <td>131</td>\n    </tr>\n    <tr>\n      <th>3</th>\n      <td>320</td>\n      <td>320</td>\n    </tr>\n  </tbody>\n</table>\n</div>"
     },
     "execution_count": 8,
     "metadata": {},
     "output_type": "execute_result"
    }
   ],
   "source": [
    "df = pd.read_csv( os.path.join( dataDir ,\"train.csv\") )\n",
    "df = df[['id','cell_type']]  .groupby('id').first().reset_index()\n",
    "\n",
    "classid = {'shsy5y': 1, 'astro' :2, 'cort': 3}\n",
    "predictors = {'shsy5y': predictor_shsy5y,\n",
    "             'astro' :predictor_astro,\n",
    "             'cort': predictor_cort}\n",
    "\n",
    "df['classid'] = df['cell_type'].map(classid)\n",
    "print( df.head(10) )\n",
    "df.groupby('classid').count()"
   ],
   "metadata": {
    "collapsed": false,
    "pycharm": {
     "name": "#%%\n"
    }
   }
  },
  {
   "cell_type": "code",
   "execution_count": 9,
   "outputs": [],
   "source": [
    "from pathlib import Path\n",
    "def get_class(fn, predictorx):\n",
    "    im = cv2.imread(fn)\n",
    "    pred =  predictorx(im)\n",
    "    pred_class = torch.mode(pred['instances'].pred_classes)[0]\n",
    "    return pred_class\n",
    "\n",
    "#predictor = DefaultPredictor(cfg)\n",
    "# img = os.path.join(dataDir,  'train',df.id[1] + '.png')\n",
    "#\n",
    "# get_masks(img, cfg).cpu()"
   ],
   "metadata": {
    "collapsed": false,
    "pycharm": {
     "name": "#%%\n"
    }
   }
  },
  {
   "cell_type": "code",
   "execution_count": 10,
   "outputs": [],
   "source": [
    "# ids = []\n",
    "# for index, rows in df.iterrows():\n",
    "#     img = os.path.join(dataDir,  'train',rows.id + '.png')\n",
    "#     classid = get_masks(img, predictor)\n",
    "#     ids.append(classid.cpu().numpy())\n"
   ],
   "metadata": {
    "collapsed": false,
    "pycharm": {
     "name": "#%%\n"
    }
   }
  },
  {
   "cell_type": "code",
   "execution_count": 49,
   "outputs": [
    {
     "name": "stdout",
     "output_type": "stream",
     "text": [
      "class_predicted    1    2    3\n",
      "classid                       \n",
      "1                155    0    0\n",
      "2                  0  131    0\n",
      "3                  0    0  320\n"
     ]
    }
   ],
   "source": [
    "df['class_predicted']= [i +1 for i in ids]\n",
    "confusion_matrix = pd.crosstab(df['classid'], df['class_predicted'], rownames=['classid'], colnames=['class_predicted'])\n",
    "print (confusion_matrix)"
   ],
   "metadata": {
    "collapsed": false,
    "pycharm": {
     "name": "#%%\n"
    }
   }
  },
  {
   "cell_type": "code",
   "execution_count": 10,
   "outputs": [],
   "source": [],
   "metadata": {
    "collapsed": false,
    "pycharm": {
     "name": "#%%\n"
    }
   }
  },
  {
   "cell_type": "code",
   "execution_count": 10,
   "outputs": [],
   "source": [],
   "metadata": {
    "collapsed": false,
    "pycharm": {
     "name": "#%%\n"
    }
   }
  },
  {
   "cell_type": "code",
   "execution_count": 23,
   "outputs": [
    {
     "name": "stdout",
     "output_type": "stream",
     "text": [
      "180\n",
      "72\n",
      "123\n"
     ]
    },
    {
     "data": {
      "text/plain": "array([0, 1], dtype=uint8)"
     },
     "execution_count": 23,
     "metadata": {},
     "output_type": "execute_result"
    },
    {
     "data": {
      "text/plain": "<Figure size 432x288 with 1 Axes>",
      "image/png": "[encoded data removed]"
     },
     "metadata": {
      "needs_background": "light"
     },
     "output_type": "display_data"
    }
   ],
   "source": [
    "def rle2mask(rle, img_w, img_h):\n",
    "\n",
    "    ## transforming the string into an array of shape (2, N)\n",
    "    array = np.fromiter(rle.split(), dtype = np.uint)\n",
    "    array = array.reshape((-1,2)).T\n",
    "    array[0] = array[0] - 1\n",
    "\n",
    "    ## decompressing the rle encoding (ie, turning [3, 1, 10, 2] into [3, 4, 10, 11, 12])\n",
    "    # for faster mask construction\n",
    "    starts, lenghts = array\n",
    "    mask_decompressed = np.concatenate([np.arange(s, s + l, dtype = np.uint) for s, l in zip(starts, lenghts)])\n",
    "\n",
    "    ## Building the binary mask\n",
    "    msk_img = np.zeros(img_w * img_h, dtype = np.uint8)\n",
    "    msk_img[mask_decompressed] = 1\n",
    "    msk_img = msk_img.reshape((img_h, img_w))\n",
    "    msk_img = np.asfortranarray(msk_img) ## This is important so pycocotools can handle this object\n",
    "\n",
    "    return msk_img\n",
    "\n",
    "\n",
    "ids, masks=[],[]\n",
    "#test_names = (dataDir/'test').ls()\n",
    "\n",
    "pathtest = os.path.join(dataDir,\"test\")\n",
    "test_names =  os.listdir(pathtest)\n",
    "test_names = [ os.path.join(pathtest, x) for x in test_names ]\n",
    "test_names\n",
    "#THRESHOLDS = [.27,.24,.28]\n",
    "THRESHOLDS = [.15, .35, .55]\n",
    "#THRESHOLDS = [.5, .55, .55]\n",
    "\n",
    "ll = []\n",
    "for fn in test_names:\n",
    "    classid = get_class(fn, predictor_class)\n",
    "    ctype = classmap [ str(classid.cpu().numpy() +1) ]\n",
    "\n",
    "   # print(ctype)\n",
    "\n",
    "    predictor = predictors[ctype]\n",
    "    encoded_masks = get_masks(fn, predictor)\n",
    "    print(len ( encoded_masks))\n",
    "    for enc in encoded_masks:\n",
    "        path, file = os.path.split(fn)\n",
    "        id =  file.split(\".png\")[0]\n",
    "  #      print(id)\n",
    "        ids.append(id)\n",
    "        masks.append(enc)\n",
    "       # x = [ x + rle]\n",
    "    #print(masks)\n",
    "    ll.append( (id,len ( encoded_masks) )  )\n",
    "\n",
    "pd.DataFrame({'id':ids, 'predicted':masks}).to_csv('submission.csv', index=False)\n",
    "pd.read_csv('submission.csv').head()\n",
    "xx = pd.DataFrame({'id':ids, 'predicted':masks})\n",
    "idx = xx.id.unique()\n",
    "\n",
    "mx =[  rle2mask(x, 704, 520)  for x in  xx[ xx['id'] == idx[2]].predicted ]\n",
    "mx = sum(mx)\n",
    "plt.imshow(mx)\n",
    "np.unique(mx)"
   ],
   "metadata": {
    "collapsed": false,
    "pycharm": {
     "name": "#%%\n"
    }
   }
  },
  {
   "cell_type": "code",
   "execution_count": 24,
   "outputs": [
    {
     "data": {
      "text/plain": "<matplotlib.image.AxesImage at 0x21790125488>"
     },
     "execution_count": 24,
     "metadata": {},
     "output_type": "execute_result"
    },
    {
     "data": {
      "text/plain": "<Figure size 432x288 with 1 Axes>",
      "image/png": "[encoded data removed]"
     },
     "metadata": {
      "needs_background": "light"
     },
     "output_type": "display_data"
    }
   ],
   "source": [
    "mx =[  rle2mask(x, 704, 520)  for x in  xx[ xx['id'] == idx[0]].predicted ]\n",
    "mx = sum(mx)\n",
    "plt.imshow(mx)"
   ],
   "metadata": {
    "collapsed": false,
    "pycharm": {
     "name": "#%%\n"
    }
   }
  },
  {
   "cell_type": "code",
   "execution_count": 25,
   "outputs": [
    {
     "data": {
      "text/plain": "<matplotlib.image.AxesImage at 0x21790336148>"
     },
     "execution_count": 25,
     "metadata": {},
     "output_type": "execute_result"
    },
    {
     "data": {
      "text/plain": "<Figure size 432x288 with 1 Axes>",
      "image/png": "[encoded data removed]"
     },
     "metadata": {
      "needs_background": "light"
     },
     "output_type": "display_data"
    }
   ],
   "source": [
    "mx =[  rle2mask(x, 704, 520)  for x in  xx[ xx['id'] == idx[1]].predicted ]\n",
    "mx = sum(mx)\n",
    "plt.imshow(mx)"
   ],
   "metadata": {
    "collapsed": false,
    "pycharm": {
     "name": "#%%\n"
    }
   }
  },
  {
   "cell_type": "markdown",
   "source": [
    "\n",
    "# get the best threshould\n"
   ],
   "metadata": {
    "collapsed": false,
    "pycharm": {
     "name": "#%% md\n"
    }
   }
  },
  {
   "cell_type": "code",
   "execution_count": 28,
   "outputs": [
    {
     "data": {
      "text/plain": "             id                                          predicted\n0  7ae19de7bc2a  314702 69 315406 69 316110 69 316814 69 317518...\n1  7ae19de7bc2a  22612 57 23316 57 24020 57 24724 57 25428 57 2...\n2  7ae19de7bc2a  716 36 1420 36 2124 36 2828 36 3532 36 3593 1 ...\n3  7ae19de7bc2a  282707 16 282725 1 282729 33 283411 15 283435 ...\n4  7ae19de7bc2a  310626 92 311330 27 311366 56 312034 25 312073...",
      "text/html": "<div>\n<style scoped>\n    .dataframe tbody tr th:only-of-type {\n        vertical-align: middle;\n    }\n\n    .dataframe tbody tr th {\n        vertical-align: top;\n    }\n\n    .dataframe thead th {\n        text-align: right;\n    }\n</style>\n<table border=\"1\" class=\"dataframe\">\n  <thead>\n    <tr style=\"text-align: right;\">\n      <th></th>\n      <th>id</th>\n      <th>predicted</th>\n    </tr>\n  </thead>\n  <tbody>\n    <tr>\n      <th>0</th>\n      <td>7ae19de7bc2a</td>\n      <td>314702 69 315406 69 316110 69 316814 69 317518...</td>\n    </tr>\n    <tr>\n      <th>1</th>\n      <td>7ae19de7bc2a</td>\n      <td>22612 57 23316 57 24020 57 24724 57 25428 57 2...</td>\n    </tr>\n    <tr>\n      <th>2</th>\n      <td>7ae19de7bc2a</td>\n      <td>716 36 1420 36 2124 36 2828 36 3532 36 3593 1 ...</td>\n    </tr>\n    <tr>\n      <th>3</th>\n      <td>7ae19de7bc2a</td>\n      <td>282707 16 282725 1 282729 33 283411 15 283435 ...</td>\n    </tr>\n    <tr>\n      <th>4</th>\n      <td>7ae19de7bc2a</td>\n      <td>310626 92 311330 27 311366 56 312034 25 312073...</td>\n    </tr>\n  </tbody>\n</table>\n</div>"
     },
     "execution_count": 28,
     "metadata": {},
     "output_type": "execute_result"
    }
   ],
   "source": [
    "# pd.DataFrame({'id':ids, 'predicted':masks}).to_csv('submission.csv', index=False)\n",
    "# pd.read_csv('submission.csv').head()"
   ],
   "metadata": {
    "collapsed": false,
    "pycharm": {
     "name": "#%%\n"
    }
   }
  },
  {
   "cell_type": "code",
   "execution_count": 18,
   "outputs": [
    {
     "ename": "SyntaxError",
     "evalue": "invalid syntax (Temp/ipykernel_20356/1692376965.py, line 5)",
     "output_type": "error",
     "traceback": [
      "\u001B[1;36m  File \u001B[1;32m\"C:\\Users\\rpsan\\AppData\\Local\\Temp/ipykernel_20356/1692376965.py\"\u001B[1;36m, line \u001B[1;32m5\u001B[0m\n\u001B[1;33m    classid = get_class(, predictor_class)\u001B[0m\n\u001B[1;37m                        ^\u001B[0m\n\u001B[1;31mSyntaxError\u001B[0m\u001B[1;31m:\u001B[0m invalid syntax\n"
     ]
    }
   ],
   "source": [
    "def rles_to_mask(encs, shape):\n",
    "    \"\"\"\n",
    "    Decodes a rle.\n",
    "\n",
    "    Args:\n",
    "        encs (list of str): Rles for each class.\n",
    "        shape (tuple [2]): Mask size.\n",
    "\n",
    "    Returns:\n",
    "        np array [shape]: Mask.\n",
    "    \"\"\"\n",
    "    img = np.zeros(shape[0] * shape[1], dtype=np.uint)\n",
    "    if type(encs)==float:\n",
    "        return img\n",
    "    for m, enc in enumerate(encs):\n",
    "        if isinstance(enc, np.float) and np.isnan(enc):\n",
    "            continue\n",
    "        enc_split = enc.split()\n",
    "        for i in range(len(enc_split) // 2):\n",
    "            start = int(enc_split[2 * i]) - 1\n",
    "            length = int(enc_split[2 * i + 1])\n",
    "            img[start: start + length] = 1 + m\n",
    "    return img.reshape(shape)\n",
    "\n",
    "def compute_iou(labels, y_pred):\n",
    "    \"\"\"\n",
    "    Computes the IoU for instance labels and predictions.\n",
    "\n",
    "    Args:\n",
    "        labels (np array): Labels.\n",
    "        y_pred (np array): predictions\n",
    "\n",
    "    Returns:\n",
    "        np array: IoU matrix, of size true_objects x pred_objects.\n",
    "    \"\"\"\n",
    "\n",
    "    true_objects = len(np.unique(labels))\n",
    "    pred_objects = len(np.unique(y_pred))\n",
    "\n",
    "    # Compute intersection between all objects\n",
    "    intersection = np.histogram2d(\n",
    "        labels.flatten(), y_pred.flatten(), bins=(true_objects, pred_objects)\n",
    "    )[0]\n",
    "\n",
    "    # Compute areas (needed for finding the union between all objects)\n",
    "    area_true = np.histogram(labels, bins=true_objects)[0]\n",
    "    area_pred = np.histogram(y_pred, bins=pred_objects)[0]\n",
    "    area_true = np.expand_dims(area_true, -1)\n",
    "    area_pred = np.expand_dims(area_pred, 0)\n",
    "\n",
    "    # Compute union\n",
    "    union = area_true + area_pred - intersection\n",
    "    iou = intersection / union\n",
    "\n",
    "    return iou[1:, 1:]  # exclude background\n",
    "\n",
    "def precision_at(threshold, iou):\n",
    "    \"\"\"\n",
    "    Computes the precision at a given threshold.\n",
    "\n",
    "    Args:\n",
    "        threshold (float): Threshold.\n",
    "        iou (np array [n_truths x n_preds]): IoU matrix.\n",
    "\n",
    "    Returns:\n",
    "        int: Number of true positives,\n",
    "        int: Number of false positives,\n",
    "        int: Number of false negatives.\n",
    "    \"\"\"\n",
    "    matches = iou > threshold\n",
    "    true_positives = np.sum(matches, axis=1) >= 1  # Correct objects\n",
    "    false_negatives = np.sum(matches, axis=1) == 0  # Missed objects\n",
    "    false_positives = np.sum(matches, axis=0) == 0  # Extra objects\n",
    "    tp, fp, fn = (\n",
    "        np.sum(true_positives),\n",
    "        np.sum(false_positives),\n",
    "        np.sum(false_negatives),\n",
    "    )\n",
    "    return tp, fp, fn\n",
    "\n",
    "from tqdm.auto import tqdm\n",
    "def iou_map(truths, preds, verbose=0):\n",
    "    \"\"\"\n",
    "    Computes the metric for the competition.\n",
    "    Masks contain the segmented pixels where each object has one value associated,\n",
    "    and 0 is the background.\n",
    "\n",
    "    Args:\n",
    "        truths (list of masks): Ground truths.\n",
    "        preds (list of masks): Predictions.\n",
    "        verbose (int, optional): Whether to print infos. Defaults to 0.\n",
    "\n",
    "    Returns:\n",
    "        float: mAP.\n",
    "    \"\"\"\n",
    "    # ious = [\n",
    "    #     compute_iou(rles_to_mask(truth,shape), rles_to_mask(pred,shape))\n",
    "    #         for truth, pred in tqdm(zip(truths, preds))\n",
    "    # ]\n",
    "    ious = compute_iou(truths,preds)\n",
    "    if verbose:\n",
    "        print(ious[0].shape)\n",
    "        print(\"Thresh\\tTP\\tFP\\tFN\\tPrec.\")\n",
    "\n",
    "    prec = []\n",
    "    for t in np.arange(0.5, 1.0, 0.05):\n",
    "        tps, fps, fns = 0, 0, 0\n",
    "        for iou in ious:\n",
    "            tp, fp, fn = precision_at(t, iou)\n",
    "            tps += tp\n",
    "            fps += fp\n",
    "            fns += fn\n",
    "\n",
    "        p = tps / (tps + fps + fns)\n",
    "        prec.append(p)\n",
    "\n",
    "        if verbose:\n",
    "            print(\"{:1.3f}\\t{}\\t{}\\t{}\\t{:1.3f}\".format(t, tps, fps, fns, p))\n",
    "\n",
    "    if verbose:\n",
    "        print(\"AP\\t-\\t-\\t-\\t{:1.3f}\".format(np.mean(prec)))\n",
    "\n",
    "    return np.mean(prec)\n"
   ],
   "metadata": {
    "collapsed": false,
    "pycharm": {
     "name": "#%%\n"
    }
   }
  },
  {
   "cell_type": "code",
   "execution_count": 28,
   "outputs": [
    {
     "data": {
      "text/plain": "<detectron2.engine.defaults.DefaultPredictor at 0x2235ca6c108>"
     },
     "execution_count": 28,
     "metadata": {},
     "output_type": "execute_result"
    }
   ],
   "source": [
    "thr = .5\n",
    "class_id = { 'shsy5y' : 1, 'astro':2, 'cort' : 3 }\n",
    "width = 704\n",
    "height = 520\n",
    "shape = [height,width]\n",
    "def get_masks_tothr(fn, predictor,thr):\n",
    "    im = cv2.imread(str(fn))\n",
    "    pred = predictor(im)\n",
    "    pred_class = torch.mode(pred['instances'].pred_classes)[0]\n",
    "    take = pred['instances'].scores >= thr #THRESHOLDS[pred_class]\n",
    "    pred_masks = pred['instances'].pred_masks[take]\n",
    "    pred_masks = pred_masks.cpu().numpy()\n",
    "    res = []\n",
    "    used = np.zeros(im.shape[:2], dtype=int)\n",
    "    for mask in pred_masks:\n",
    "        mask = mask * (1-used)\n",
    "        if mask.sum() >= MIN_PIXELS[pred_class]: # skip predictions with small area\n",
    "            used += mask\n",
    "            res.append((mask))\n",
    "    res = sum(mask)\n",
    "    return res\n",
    "\n",
    "def get_iou_trh(thr,ctype):\n",
    "    masks = []\n",
    "    preds = []\n",
    "    for index, row in  tqdm(df[df['type']==ctype].iterrows(), total = df[df['type']==ctype].shape[0]) :   #df[df['type']==ctype].iterrows():\n",
    "        #predx = sum([  infer(model,read_image( row['img'] , mask = False) )[0]  for model in models]) / len(models)\n",
    "        predictor = predictors[ctype]\n",
    "        predx = get_masks_tothr(fn, predictor, thr)\n",
    "        predx = predx.cpu().numpy()\n",
    "        #predx = tf.squeeze(predx).numpy()\n",
    "        #predx = predx.astype(np.uint8)\n",
    "        #nclass = infer(models[0],read_image( row['img'] , mask = False)  )[1]\n",
    "        mask = read_mask(row['mask'])\n",
    "        mask = tf.squeeze(mask).numpy()\n",
    "        mask = mask > 0\n",
    "        mask = mask.astype(np.uint8)\n",
    "        #ctype = row['type']\n",
    "\n",
    "        masks.append(mask)\n",
    "        preds.append(predx)\n",
    "    return  iou_map(masks,preds)\n",
    "\n",
    "def plot_thr(ones,thrs):\n",
    "    fig = plt.figure()\n",
    "    ax = fig.add_subplot(111)\n",
    "    x = thrs\n",
    "    y = ones\n",
    "    line, = ax.plot(x, y)\n",
    "\n",
    "    ymax = max(y)\n",
    "    xpos = y.index(ymax)\n",
    "    xmax = x[xpos]\n",
    "\n",
    "    def annot_max(x,y, ax=None):\n",
    "        xmax = x[np.argmax(y)]\n",
    "        ymax = max(y)\n",
    "        text= \"x={:.3f}, y={:.3f}\".format(xmax, ymax)\n",
    "        if not ax:\n",
    "            ax=plt.gca()\n",
    "        bbox_props = dict(boxstyle=\"square,pad=0.3\", fc=\"w\", ec=\"k\", lw=0.72)\n",
    "        arrowprops=dict(arrowstyle=\"->\",connectionstyle=\"angle,angleA=0,angleB=60\")\n",
    "        kw = dict(xycoords='data',textcoords=\"axes fraction\",\n",
    "                  arrowprops=arrowprops, bbox=bbox_props, ha=\"right\", va=\"top\")\n",
    "        ax.annotate(text, xy=(xmax, ymax), xytext=(0.94,0.96), **kw)\n",
    "\n",
    "    annot_max(x,y)\n",
    "\n",
    "    ax.set_ylim(0,1.5 * max(y))\n",
    "    plt.show()\n",
    "\n",
    "\n",
    "def get_best_tr(ctype):\n",
    "    thrs = np.arange(0,1,.1)\n",
    "    ones = []\n",
    "    for i in np.arange(0,1,.1):\n",
    "       ones.append( get_iou_trh(i,ctype))\n",
    "\n",
    "    plot_thr(ones, thrs)\n",
    "\n",
    "\n",
    "def plot_thr(ones,thr):\n",
    "    fig = plt.figure()\n",
    "    ax = fig.add_subplot(111)\n",
    "    x = thrs\n",
    "    y = ones\n",
    "    line, = ax.plot(x, y)\n",
    "\n",
    "    ymax = max(y)\n",
    "    xpos = y.index(ymax)\n",
    "    xmax = x[xpos]\n",
    "\n",
    "    def annot_max(x,y, ax=None):\n",
    "        xmax = x[np.argmax(y)]\n",
    "        ymax = max(y)\n",
    "        text= \"x={:.3f}, y={:.3f}\".format(xmax, ymax)\n",
    "        if not ax:\n",
    "            ax=plt.gca()\n",
    "        bbox_props = dict(boxstyle=\"square,pad=0.3\", fc=\"w\", ec=\"k\", lw=0.72)\n",
    "        arrowprops=dict(arrowstyle=\"->\",connectionstyle=\"angle,angleA=0,angleB=60\")\n",
    "        kw = dict(xycoords='data',textcoords=\"axes fraction\",\n",
    "                  arrowprops=arrowprops, bbox=bbox_props, ha=\"right\", va=\"top\")\n",
    "        ax.annotate(text, xy=(xmax, ymax), xytext=(0.94,0.96), **kw)\n",
    "\n",
    "    annot_max(x,y)\n",
    "\n",
    "    ax.set_ylim(0,1.5 * max(y))\n",
    "    plt.show()\n"
   ],
   "metadata": {
    "collapsed": false,
    "pycharm": {
     "name": "#%%\n"
    }
   }
  },
  {
   "cell_type": "code",
   "execution_count": 30,
   "outputs": [
    {
     "data": {
      "text/plain": "'astro'"
     },
     "execution_count": 30,
     "metadata": {},
     "output_type": "execute_result"
    }
   ],
   "source": [
    "ctyp"
   ],
   "metadata": {
    "collapsed": false,
    "pycharm": {
     "name": "#%%\n"
    }
   }
  },
  {
   "cell_type": "code",
   "execution_count": 33,
   "outputs": [
    {
     "data": {
      "text/plain": "'b'"
     },
     "execution_count": 33,
     "metadata": {},
     "output_type": "execute_result"
    }
   ],
   "source": [
    "predictors = {'shsy5y': \"a\",\n",
    "             'astro' : \"b\",\n",
    "             'cort': \"c\"}\n",
    "\n",
    "predictors[ctype]"
   ],
   "metadata": {
    "collapsed": false,
    "pycharm": {
     "name": "#%%\n"
    }
   }
  },
  {
   "cell_type": "code",
   "execution_count": null,
   "outputs": [],
   "source": [],
   "metadata": {
    "collapsed": false,
    "pycharm": {
     "name": "#%%\n"
    }
   }
  }
 ],
 "metadata": {
  "kernelspec": {
   "display_name": "Python 3",
   "language": "python",
   "name": "python3"
  },
  "language_info": {
   "codemirror_mode": {
    "name": "ipython",
    "version": 2
   },
   "file_extension": ".py",
   "mimetype": "text/x-python",
   "name": "python",
   "nbconvert_exporter": "python",
   "pygments_lexer": "ipython2",
   "version": "2.7.6"
  }
 },
 "nbformat": 4,
 "nbformat_minor": 0
}