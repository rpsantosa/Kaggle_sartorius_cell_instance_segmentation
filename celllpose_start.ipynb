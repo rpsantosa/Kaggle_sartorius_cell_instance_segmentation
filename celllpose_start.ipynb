{
 "cells": [
  {
   "cell_type": "code",
   "execution_count": null,
   "outputs": [],
   "source": [
    "#pip install git+https://www.github.com/mouseland/cellpose.git\n"
   ],
   "metadata": {
    "collapsed": false,
    "pycharm": {
     "name": "#%%\n"
    }
   }
  },
  {
   "cell_type": "code",
   "execution_count": 1,
   "metadata": {
    "collapsed": true
   },
   "outputs": [
    {
     "name": "stderr",
     "output_type": "stream",
     "text": [
      "C:\\kaggletemp\\sartorius-cell-instance-segmentation\\env\\Lib\\site-packages\\numpy\\_distributor_init.py:32: UserWarning: loaded more than 1 DLL from .libs:\n",
      "C:\\kaggletemp\\sartorius-cell-instance-segmentation\\env\\Lib\\site-packages\\numpy\\.libs\\libopenblas.GK7GX5KEQ4F6UYO3P26ULGBQYHGQO7J4.gfortran-win_amd64.dll\n",
      "C:\\kaggletemp\\sartorius-cell-instance-segmentation\\env\\Lib\\site-packages\\numpy\\.libs\\libopenblas.WCDJNK7YVMPZQ2ME2ZZHJJRJ3JIKNDB7.gfortran-win_amd64.dll\n",
      "  stacklevel=1)\n",
      "UsageError: Line magic function `%%writefile` not found.\n"
     ]
    }
   ],
   "source": [
    "import numpy as np\n",
    "import time, os, sys\n",
    "from urllib.parse import urlparse\n",
    "import matplotlib.pyplot as plt\n",
    "import matplotlib as mpl\n",
    "%%writefile run.py\n",
    "import numpy as np\n",
    "from cellpose import models, io, plot\n",
    "from pathlib import Path\n",
    "import pandas as pd\n",
    "\n",
    "def rle_encode(img):\n",
    "    pixels = img.flatten()\n",
    "    pixels = np.concatenate([[0], pixels, [0]])\n",
    "    runs = np.where(pixels[1:] != pixels[:-1])[0] + 1\n",
    "    runs[1::2] -= runs[::2]\n",
    "    return ' '.join(str(x) for x in runs)\n",
    "\n",
    "test_dir = Path('../input/sartorius-cell-instance-segmentation/test')\n",
    "test_files = [fname for fname in test_dir.iterdir()]\n",
    "model = models.CellposeModel(gpu=True, pretrained_model='../input/cellpose-model-example/cellpose_residual_on_style_on_concatenation_off_cellpose_train_2021_12_03_14_43_12.213259')\n",
    "\n",
    "ids, masks = [],[]\n",
    "for fn in test_files:\n",
    "    preds, flows, _ = model.eval(io.imread(str(fn)), diameter=19, channels=[0,0], augment=True, resample=True)\n",
    "    for i in range (1, preds.max() + 1):\n",
    "        ids.append(fn.stem)\n",
    "        masks.append(rle_encode(preds == i))\n",
    "\n",
    "pd.DataFrame({'id':ids, 'predicted':masks}).to_csv('submission.csv', index=False)"
   ]
  },
  {
   "cell_type": "code",
   "execution_count": 4,
   "outputs": [
    {
     "name": "stdout",
     "output_type": "stream",
     "text": [
      "2021-12-26 01:35:48,724 [INFO] WRITING LOG OUTPUT TO C:\\Users\\rpsan\\.cellpose\\run.log\n",
      "2021-12-26 01:35:48,838 [INFO] ** TORCH CUDA version installed and working. **\n",
      "2021-12-26 01:35:48,838 [INFO] >>>> using GPU\n"
     ]
    },
    {
     "name": "stderr",
     "output_type": "stream",
     "text": [
      "C:\\kaggletemp\\sartorius-cell-instance-segmentation\\env\\Lib\\site-packages\\numpy\\_distributor_init.py:32: UserWarning: loaded more than 1 DLL from .libs:\n",
      "C:\\kaggletemp\\sartorius-cell-instance-segmentation\\env\\Lib\\site-packages\\numpy\\.libs\\libopenblas.GK7GX5KEQ4F6UYO3P26ULGBQYHGQO7J4.gfortran-win_amd64.dll\n",
      "C:\\kaggletemp\\sartorius-cell-instance-segmentation\\env\\Lib\\site-packages\\numpy\\.libs\\libopenblas.WCDJNK7YVMPZQ2ME2ZZHJJRJ3JIKNDB7.gfortran-win_amd64.dll\n",
      "  stacklevel=1)\n",
      "Traceback (most recent call last):\n",
      "  File \"run.py\", line 20, in <module>\n",
      "    preds, flows, _ = model.eval(io.imread(str(fn)), diameter=19, channels=[0,0], augment=True, resample=True)\n",
      "  File \"C:\\kaggletemp\\sartorius-cell-instance-segmentation\\env\\Lib\\site-packages\\cellpose\\models.py\", line 634, in eval\n",
      "    verbose=verbose)\n",
      "  File \"C:\\kaggletemp\\sartorius-cell-instance-segmentation\\env\\Lib\\site-packages\\cellpose\\models.py\", line 690, in _run_cp\n",
      "    tile_overlap=tile_overlap)\n",
      "  File \"C:\\kaggletemp\\sartorius-cell-instance-segmentation\\env\\Lib\\site-packages\\cellpose\\core.py\", line 399, in _run_nets\n",
      "    for j in range(len(self.pretrained_model)):\n",
      "TypeError: object of type 'bool' has no len()\n"
     ]
    }
   ],
   "source": [
    "!python run.py"
   ],
   "metadata": {
    "collapsed": false,
    "pycharm": {
     "name": "#%%\n"
    }
   }
  },
  {
   "cell_type": "code",
   "execution_count": null,
   "outputs": [],
   "source": [],
   "metadata": {
    "collapsed": false,
    "pycharm": {
     "name": "#%%\n"
    }
   }
  }
 ],
 "metadata": {
  "kernelspec": {
   "display_name": "Python 3",
   "language": "python",
   "name": "python3"
  },
  "language_info": {
   "codemirror_mode": {
    "name": "ipython",
    "version": 2
   },
   "file_extension": ".py",
   "mimetype": "text/x-python",
   "name": "python",
   "nbconvert_exporter": "python",
   "pygments_lexer": "ipython2",
   "version": "2.7.6"
  }
 },
 "nbformat": 4,
 "nbformat_minor": 0
}