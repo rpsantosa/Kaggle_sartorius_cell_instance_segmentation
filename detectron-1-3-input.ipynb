{
 "metadata": {
  "kernelspec": {
   "language": "python",
   "display_name": "Python 3",
   "name": "python3"
  },
  "language_info": {
   "pygments_lexer": "ipython3",
   "nbconvert_exporter": "python",
   "version": "3.6.4",
   "file_extension": ".py",
   "codemirror_mode": {
    "name": "ipython",
    "version": 3
   },
   "name": "python",
   "mimetype": "text/x-python"
  }
 },
 "nbformat_minor": 4,
 "nbformat": 4,
 "cells": [
  {
   "cell_type": "markdown",
   "source": [
    "<h1><center>Loading input data in the COCO format</center></h1>\n",
    "<center><img src = \"https://github.com/slawekslex/random/blob/main/segmentation.png?raw=true\"/></center>"
   ],
   "metadata": {}
  },
  {
   "cell_type": "markdown",
   "source": [
    "## **<span style=\"color:blue;\">Introduction</span>**\n",
    "\n",
    "COCO: https://cocodataset.org/ is a large, popular dataset for image object detection, segmentation, and captioning. It stores its annotations in the json format describing object classes, bounding boxes and bitmasks.\n",
    "\n",
    "I've created a dataset: https://www.kaggle.com/slawekbiel/sartorius-cell-instance-segmentation-coco that converts the input data given in the competition into the COCO format. This allows to easly explore the data with [pycocotools](https://github.com/cocodataset/cocoapi) and directly load it into [detectron](https://github.com/facebookresearch/detectron2)\n",
    "\n",
    "In this notebook I'll show how we can use this to load images and annotations in just few lines of code"
   ],
   "metadata": {
    "execution": {
     "iopub.status.busy": "2021-10-20T14:29:26.640407Z",
     "iopub.execute_input": "2021-10-20T14:29:26.640713Z",
     "iopub.status.idle": "2021-10-20T14:29:26.647283Z",
     "shell.execute_reply.started": "2021-10-20T14:29:26.640684Z",
     "shell.execute_reply": "2021-10-20T14:29:26.645577Z"
    }
   }
  },
  {
   "cell_type": "code",
   "source": [
    "import os\n",
    "!pip install pycocotools"
   ],
   "metadata": {
    "_uuid": "8f2839f25d086af736a60e9eeb907d3b93b6e0e5",
    "_cell_guid": "b1076dfc-b9ad-4769-8c92-a6c4dae69d19",
    "_kg_hide-input": true,
    "_kg_hide-output": true,
    "execution": {
     "iopub.status.busy": "2021-12-29T09:02:22.785511Z",
     "iopub.execute_input": "2021-12-29T09:02:22.785851Z",
     "iopub.status.idle": "2021-12-29T09:02:41.754525Z",
     "shell.execute_reply.started": "2021-12-29T09:02:22.785766Z",
     "shell.execute_reply": "2021-12-29T09:02:41.752665Z"
    },
    "trusted": true
   },
   "execution_count": null,
   "outputs": []
  },
  {
   "cell_type": "code",
   "source": [
    "from pycocotools.coco import COCO\n",
    "import skimage.io as io\n",
    "import matplotlib.pyplot as plt\n",
    "from pathlib import Path\n",
    "from PIL import Image"
   ],
   "metadata": {
    "execution": {
     "iopub.status.busy": "2021-12-29T09:02:41.757716Z",
     "iopub.execute_input": "2021-12-29T09:02:41.758125Z",
     "iopub.status.idle": "2021-12-29T09:02:42.457938Z",
     "shell.execute_reply.started": "2021-12-29T09:02:41.758077Z",
     "shell.execute_reply": "2021-12-29T09:02:42.456917Z"
    },
    "trusted": true
   },
   "execution_count": 1,
   "outputs": []
  },
  {
   "cell_type": "markdown",
   "source": [
    "### Load the annotations file into a COCO dataset"
   ],
   "metadata": {
    "execution": {
     "iopub.status.busy": "2021-10-20T14:40:49.42228Z",
     "iopub.execute_input": "2021-10-20T14:40:49.423207Z",
     "iopub.status.idle": "2021-10-20T14:40:49.427388Z",
     "shell.execute_reply.started": "2021-10-20T14:40:49.423161Z",
     "shell.execute_reply": "2021-10-20T14:40:49.42652Z"
    }
   }
  },
  {
   "cell_type": "code",
   "source": [
    "# dataDir=Path('../input/sartorius-cell-instance-segmentation')\n",
    "# annFile = Path('../input/sartorius-cell-instance-segmentation-coco/annotations_all.json')\n",
    "# coco = COCO(annFile)\n",
    "# imgIds = coco.getImgIds()\n",
    "# imgs = coco.loadImgs(imgIds[-3:])"
   ],
   "metadata": {
    "execution": {
     "iopub.status.busy": "2021-12-29T09:02:42.459256Z",
     "iopub.execute_input": "2021-12-29T09:02:42.459495Z",
     "iopub.status.idle": "2021-12-29T09:02:45.957214Z",
     "shell.execute_reply.started": "2021-12-29T09:02:42.459464Z",
     "shell.execute_reply": "2021-12-29T09:02:45.956270Z"
    },
    "trusted": true
   },
   "execution_count": null,
   "outputs": []
  },
  {
   "cell_type": "markdown",
   "source": [
    "### Load the first three images and display objects bitmasks and bounding boxes. This is done by the `COCO.showAnns` function"
   ],
   "metadata": {}
  },
  {
   "cell_type": "code",
   "source": [
    "imgs = coco.loadImgs(imgIds[-3:])\n",
    "_,axs = plt.subplots(len(imgs),2,figsize=(40,15 * len(imgs)))\n",
    "for img, ax in zip(imgs, axs):\n",
    "    I = io.imread(dataDir/img['file_name'])\n",
    "    annIds = coco.getAnnIds(imgIds=[img['id']])\n",
    "    anns = coco.loadAnns(annIds)\n",
    "    ax[0].imshow(I)\n",
    "    ax[1].imshow(I)\n",
    "    plt.sca(ax[1])\n",
    "    coco.showAnns(anns, draw_bbox=True)"
   ],
   "metadata": {
    "execution": {
     "iopub.status.busy": "2021-12-29T09:02:45.959440Z",
     "iopub.execute_input": "2021-12-29T09:02:45.959870Z",
     "iopub.status.idle": "2021-12-29T09:05:59.112313Z",
     "shell.execute_reply.started": "2021-12-29T09:02:45.959819Z",
     "shell.execute_reply": "2021-12-29T09:05:59.110210Z"
    },
    "trusted": true
   },
   "execution_count": null,
   "outputs": []
  },
  {
   "cell_type": "markdown",
   "source": [
    "## **<span style=\"color:blue;\">How is that generated</span>**\n",
    "\n",
    "### **Update**: See improved version of the generation code by Adriano Passos here: https://www.kaggle.com/coldfir3/coco-dataset-generator It's faster and generates smaller files\n",
    "\n",
    "\n",
    "Below are the functions I used to translate the original CSV dataset into the COCO formatted json file. \n",
    "Note that translation of RLE representations is done in a naive way, decoding into bitmasks and encoding it back. This makes the whole dataset take around 20 minutes to process. But since I only needed to do it once I didn't spend time on trying to optimize it."
   ],
   "metadata": {
    "execution": {
     "iopub.status.busy": "2021-10-20T14:29:26.640407Z",
     "iopub.execute_input": "2021-10-20T14:29:26.640713Z",
     "iopub.status.idle": "2021-10-20T14:29:26.647283Z",
     "shell.execute_reply.started": "2021-10-20T14:29:26.640684Z",
     "shell.execute_reply": "2021-10-20T14:29:26.645577Z"
    }
   }
  },
  {
   "cell_type": "code",
   "source": [
    "import pandas as pd\n",
    "import numpy as np\n",
    "from tqdm.notebook import tqdm\n",
    "import json,itertools\n",
    "from sklearn.model_selection import train_test_split\n",
    "import os"
   ],
   "metadata": {
    "execution": {
     "iopub.status.busy": "2021-12-29T09:06:44.423424Z",
     "iopub.execute_input": "2021-12-29T09:06:44.424427Z",
     "iopub.status.idle": "2021-12-29T09:06:45.329108Z",
     "shell.execute_reply.started": "2021-12-29T09:06:44.424364Z",
     "shell.execute_reply": "2021-12-29T09:06:45.328398Z"
    },
    "trusted": true
   },
   "execution_count": 7,
   "outputs": []
  },
  {
   "cell_type": "markdown",
   "source": [
    "# Split Train and Validation"
   ],
   "metadata": {}
  },
  {
   "cell_type": "code",
   "source": [],
   "metadata": {},
   "execution_count": null,
   "outputs": []
  },
  {
   "cell_type": "code",
   "source": [
    "dataDir= ('C:/kaggletemp/sartorius-cell-instance-segmentation/')\n",
    "\n",
    "train_df = pd.read_csv( os.path.join( dataDir,'train.csv') )\n",
    "X_train, X_test, y_train, y_test = train_test_split( train_df.id.values, train_df.cell_type.values, test_size=.2, stratify= train_df.cell_type, random_state= 666)\n"
   ],
   "metadata": {
    "execution": {
     "iopub.status.busy": "2021-12-29T09:06:50.393209Z",
     "iopub.execute_input": "2021-12-29T09:06:50.393986Z",
     "iopub.status.idle": "2021-12-29T09:06:51.262836Z",
     "shell.execute_reply.started": "2021-12-29T09:06:50.393945Z",
     "shell.execute_reply": "2021-12-29T09:06:51.262035Z"
    },
    "trusted": true
   },
   "execution_count": 8,
   "outputs": []
  },
  {
   "cell_type": "code",
   "source": [
    "X_train[:3]"
   ],
   "metadata": {
    "execution": {
     "iopub.status.busy": "2021-12-29T09:07:16.814494Z",
     "iopub.execute_input": "2021-12-29T09:07:16.814856Z",
     "iopub.status.idle": "2021-12-29T09:07:16.823094Z",
     "shell.execute_reply.started": "2021-12-29T09:07:16.814808Z",
     "shell.execute_reply": "2021-12-29T09:07:16.822243Z"
    },
    "trusted": true
   },
   "execution_count": 9,
   "outputs": [
    {
     "data": {
      "text/plain": "array(['c0b82bc0600d', '903d94c69354', '76f6eb941d56'], dtype=object)"
     },
     "execution_count": 9,
     "metadata": {},
     "output_type": "execute_result"
    }
   ]
  },
  {
   "cell_type": "code",
   "source": [
    "# From https://www.kaggle.com/stainsby/fast-tested-rle\n",
    "def rle_decode(mask_rle, shape):\n",
    "    '''\n",
    "    mask_rle: run-length as string formated (start length)\n",
    "    shape: (height,width) of array to return \n",
    "    Returns numpy array, 1 - mask, 0 - background\n",
    "\n",
    "    '''\n",
    "    s = mask_rle.split()\n",
    "    starts, lengths = [np.asarray(x, dtype=int) for x in (s[0:][::2], s[1:][::2])]\n",
    "    starts -= 1\n",
    "    ends = starts + lengths\n",
    "    img = np.zeros(shape[0]*shape[1], dtype=np.uint8)\n",
    "    for lo, hi in zip(starts, ends):\n",
    "        img[lo:hi] = 1\n",
    "    return img.reshape(shape)  # Needed to align to RLE direction\n",
    "\n",
    "# From https://newbedev.com/encode-numpy-array-using-uncompressed-rle-for-coco-dataset\n",
    "def binary_mask_to_rle(binary_mask):\n",
    "    rle = {'counts': [], 'size': list(binary_mask.shape)}\n",
    "    counts = rle.get('counts')\n",
    "    for i, (value, elements) in enumerate(itertools.groupby(binary_mask.ravel(order='F'))):\n",
    "        if i == 0 and value == 1:\n",
    "            counts.append(0)\n",
    "        counts.append(len(list(elements)))\n",
    "    return rle"
   ],
   "metadata": {
    "execution": {
     "iopub.status.busy": "2021-12-29T09:07:48.182593Z",
     "iopub.execute_input": "2021-12-29T09:07:48.183779Z",
     "iopub.status.idle": "2021-12-29T09:07:48.193105Z",
     "shell.execute_reply.started": "2021-12-29T09:07:48.183737Z",
     "shell.execute_reply": "2021-12-29T09:07:48.192150Z"
    },
    "trusted": true
   },
   "execution_count": 10,
   "outputs": []
  },
  {
   "cell_type": "code",
   "source": [
    "def coco_structure(train_df):\n",
    "    cat_ids = {name:id+1 for id, name in enumerate(train_df.cell_type.unique())}    \n",
    "    cats =[{'name':name, 'id':id} for name,id in cat_ids.items()]\n",
    "    images = [{'id':id, 'width':row.width, 'height':row.height, 'file_name':f'train/{id}.png'} for id,row in train_df.groupby('id').agg('first').iterrows()]\n",
    "    annotations=[]\n",
    "    for idx, row in tqdm(train_df.iterrows()):\n",
    "        mk = rle_decode(row.annotation, (row.height, row.width))\n",
    "        ys, xs = np.where(mk)\n",
    "        x1, x2 = min(xs), max(xs)\n",
    "        y1, y2 = min(ys), max(ys)\n",
    "        enc =binary_mask_to_rle(mk)\n",
    "        seg = {\n",
    "            'segmentation':enc, \n",
    "            'bbox': [int(x1), int(y1), int(x2-x1+1), int(y2-y1+1)],\n",
    "            'area': int(np.sum(mk)),\n",
    "            'image_id':row.id, \n",
    "            'category_id':cat_ids[row.cell_type], \n",
    "            #'iscrowd':0,\n",
    "            'id':idx\n",
    "        }\n",
    "        annotations.append(seg)\n",
    "    return {'categories':cats, 'images':images,'annotations':annotations}"
   ],
   "metadata": {
    "execution": {
     "iopub.status.busy": "2021-12-29T09:07:52.982617Z",
     "iopub.execute_input": "2021-12-29T09:07:52.983640Z",
     "iopub.status.idle": "2021-12-29T09:07:52.994475Z",
     "shell.execute_reply.started": "2021-12-29T09:07:52.983604Z",
     "shell.execute_reply": "2021-12-29T09:07:52.993853Z"
    },
    "trusted": true
   },
   "execution_count": 14,
   "outputs": []
  },
  {
   "cell_type": "code",
   "source": "## run it on first three images for demonstration:\n#train_df = pd.read_csv('../input/sartorius-cell-instance-segmentation/train.csv')\n#all_ids = train_df.id.unique()\n#train_sample = train_df[train_df.id.isin(all_ids[:3])]\n#root = coco_structure(train_sample)\n\n#with open('annotations_sample.json', 'w', encoding='utf-8') as f:\n#    json.dump(root, f, ensure_ascii=True, indent=4)",
   "metadata": {
    "execution": {
     "iopub.status.busy": "2021-10-21T14:42:42.129118Z",
     "iopub.execute_input": "2021-10-21T14:42:42.130001Z",
     "iopub.status.idle": "2021-10-21T14:43:11.64497Z",
     "shell.execute_reply.started": "2021-10-21T14:42:42.129959Z",
     "shell.execute_reply": "2021-10-21T14:43:11.643931Z"
    },
    "trusted": true
   },
   "execution_count": 15,
   "outputs": []
  },
  {
   "cell_type": "code",
   "source": "#!head -n 10 annotations_sample.json",
   "metadata": {
    "execution": {
     "iopub.status.busy": "2021-10-21T14:43:36.489686Z",
     "iopub.execute_input": "2021-10-21T14:43:36.490026Z",
     "iopub.status.idle": "2021-10-21T14:43:37.287643Z",
     "shell.execute_reply.started": "2021-10-21T14:43:36.489986Z",
     "shell.execute_reply": "2021-10-21T14:43:37.286454Z"
    },
    "trusted": true
   },
   "execution_count": 16,
   "outputs": []
  },
  {
   "cell_type": "code",
   "source": "#TRAIN\ntrain = train_df[train_df.id.isin(X_train)]\nroot = coco_structure(train)\n\nwith open('annotations_train.json', 'w', encoding='utf-8') as f:\n    json.dump(root, f, ensure_ascii=True, indent=4)",
   "metadata": {
    "trusted": true
   },
   "execution_count": 17,
   "outputs": [
    {
     "data": {
      "text/plain": "0it [00:00, ?it/s]",
      "application/vnd.jupyter.widget-view+json": {
       "version_major": 2,
       "version_minor": 0,
       "model_id": "0e8e8dcb113542f597b1e634d7abaca3"
      }
     },
     "metadata": {},
     "output_type": "display_data"
    },
    {
     "ename": "KeyboardInterrupt",
     "evalue": "",
     "output_type": "error",
     "traceback": [
      "\u001B[1;31m---------------------------------------------------------------------------\u001B[0m",
      "\u001B[1;31mKeyboardInterrupt\u001B[0m                         Traceback (most recent call last)",
      "\u001B[1;32m~\\AppData\\Local\\Temp/ipykernel_19232/3689525457.py\u001B[0m in \u001B[0;36m<module>\u001B[1;34m\u001B[0m\n\u001B[0;32m      1\u001B[0m \u001B[1;31m#TRAIN\u001B[0m\u001B[1;33m\u001B[0m\u001B[1;33m\u001B[0m\u001B[1;33m\u001B[0m\u001B[0m\n\u001B[0;32m      2\u001B[0m \u001B[0mtrain\u001B[0m \u001B[1;33m=\u001B[0m \u001B[0mtrain_df\u001B[0m\u001B[1;33m[\u001B[0m\u001B[0mtrain_df\u001B[0m\u001B[1;33m.\u001B[0m\u001B[0mid\u001B[0m\u001B[1;33m.\u001B[0m\u001B[0misin\u001B[0m\u001B[1;33m(\u001B[0m\u001B[0mX_train\u001B[0m\u001B[1;33m)\u001B[0m\u001B[1;33m]\u001B[0m\u001B[1;33m\u001B[0m\u001B[1;33m\u001B[0m\u001B[0m\n\u001B[1;32m----> 3\u001B[1;33m \u001B[0mroot\u001B[0m \u001B[1;33m=\u001B[0m \u001B[0mcoco_structure\u001B[0m\u001B[1;33m(\u001B[0m\u001B[0mtrain\u001B[0m\u001B[1;33m)\u001B[0m\u001B[1;33m\u001B[0m\u001B[1;33m\u001B[0m\u001B[0m\n\u001B[0m\u001B[0;32m      4\u001B[0m \u001B[1;33m\u001B[0m\u001B[0m\n\u001B[0;32m      5\u001B[0m \u001B[1;32mwith\u001B[0m \u001B[0mopen\u001B[0m\u001B[1;33m(\u001B[0m\u001B[1;34m'annotations_train.json'\u001B[0m\u001B[1;33m,\u001B[0m \u001B[1;34m'w'\u001B[0m\u001B[1;33m,\u001B[0m \u001B[0mencoding\u001B[0m\u001B[1;33m=\u001B[0m\u001B[1;34m'utf-8'\u001B[0m\u001B[1;33m)\u001B[0m \u001B[1;32mas\u001B[0m \u001B[0mf\u001B[0m\u001B[1;33m:\u001B[0m\u001B[1;33m\u001B[0m\u001B[1;33m\u001B[0m\u001B[0m\n",
      "\u001B[1;32m~\\AppData\\Local\\Temp/ipykernel_19232/1409053946.py\u001B[0m in \u001B[0;36mcoco_structure\u001B[1;34m(train_df)\u001B[0m\n\u001B[0;32m     13\u001B[0m             \u001B[1;34m'segmentation'\u001B[0m\u001B[1;33m:\u001B[0m\u001B[0menc\u001B[0m\u001B[1;33m,\u001B[0m\u001B[1;33m\u001B[0m\u001B[1;33m\u001B[0m\u001B[0m\n\u001B[0;32m     14\u001B[0m             \u001B[1;34m'bbox'\u001B[0m\u001B[1;33m:\u001B[0m \u001B[1;33m[\u001B[0m\u001B[0mint\u001B[0m\u001B[1;33m(\u001B[0m\u001B[0mx1\u001B[0m\u001B[1;33m)\u001B[0m\u001B[1;33m,\u001B[0m \u001B[0mint\u001B[0m\u001B[1;33m(\u001B[0m\u001B[0my1\u001B[0m\u001B[1;33m)\u001B[0m\u001B[1;33m,\u001B[0m \u001B[0mint\u001B[0m\u001B[1;33m(\u001B[0m\u001B[0mx2\u001B[0m\u001B[1;33m-\u001B[0m\u001B[0mx1\u001B[0m\u001B[1;33m+\u001B[0m\u001B[1;36m1\u001B[0m\u001B[1;33m)\u001B[0m\u001B[1;33m,\u001B[0m \u001B[0mint\u001B[0m\u001B[1;33m(\u001B[0m\u001B[0my2\u001B[0m\u001B[1;33m-\u001B[0m\u001B[0my1\u001B[0m\u001B[1;33m+\u001B[0m\u001B[1;36m1\u001B[0m\u001B[1;33m)\u001B[0m\u001B[1;33m]\u001B[0m\u001B[1;33m,\u001B[0m\u001B[1;33m\u001B[0m\u001B[1;33m\u001B[0m\u001B[0m\n\u001B[1;32m---> 15\u001B[1;33m             \u001B[1;34m'area'\u001B[0m\u001B[1;33m:\u001B[0m \u001B[0mint\u001B[0m\u001B[1;33m(\u001B[0m\u001B[0mnp\u001B[0m\u001B[1;33m.\u001B[0m\u001B[0msum\u001B[0m\u001B[1;33m(\u001B[0m\u001B[0mmk\u001B[0m\u001B[1;33m)\u001B[0m\u001B[1;33m)\u001B[0m\u001B[1;33m,\u001B[0m\u001B[1;33m\u001B[0m\u001B[1;33m\u001B[0m\u001B[0m\n\u001B[0m\u001B[0;32m     16\u001B[0m             \u001B[1;34m'image_id'\u001B[0m\u001B[1;33m:\u001B[0m\u001B[0mrow\u001B[0m\u001B[1;33m.\u001B[0m\u001B[0mid\u001B[0m\u001B[1;33m,\u001B[0m\u001B[1;33m\u001B[0m\u001B[1;33m\u001B[0m\u001B[0m\n\u001B[0;32m     17\u001B[0m             \u001B[1;34m'category_id'\u001B[0m\u001B[1;33m:\u001B[0m\u001B[0mcat_ids\u001B[0m\u001B[1;33m[\u001B[0m\u001B[0mrow\u001B[0m\u001B[1;33m.\u001B[0m\u001B[0mcell_type\u001B[0m\u001B[1;33m]\u001B[0m\u001B[1;33m,\u001B[0m\u001B[1;33m\u001B[0m\u001B[1;33m\u001B[0m\u001B[0m\n",
      "\u001B[1;32m<__array_function__ internals>\u001B[0m in \u001B[0;36msum\u001B[1;34m(*args, **kwargs)\u001B[0m\n",
      "\u001B[1;32mC:\\kaggletemp\\sartorius-cell-instance-segmentation\\env\\Lib\\site-packages\\numpy\\core\\fromnumeric.py\u001B[0m in \u001B[0;36msum\u001B[1;34m(a, axis, dtype, out, keepdims, initial, where)\u001B[0m\n\u001B[0;32m   2246\u001B[0m \u001B[1;33m\u001B[0m\u001B[0m\n\u001B[0;32m   2247\u001B[0m     return _wrapreduction(a, np.add, 'sum', axis, dtype, out, keepdims=keepdims,\n\u001B[1;32m-> 2248\u001B[1;33m                           initial=initial, where=where)\n\u001B[0m\u001B[0;32m   2249\u001B[0m \u001B[1;33m\u001B[0m\u001B[0m\n\u001B[0;32m   2250\u001B[0m \u001B[1;33m\u001B[0m\u001B[0m\n",
      "\u001B[1;32mC:\\kaggletemp\\sartorius-cell-instance-segmentation\\env\\Lib\\site-packages\\numpy\\core\\fromnumeric.py\u001B[0m in \u001B[0;36m_wrapreduction\u001B[1;34m(obj, ufunc, method, axis, dtype, out, **kwargs)\u001B[0m\n\u001B[0;32m     85\u001B[0m                 \u001B[1;32mreturn\u001B[0m \u001B[0mreduction\u001B[0m\u001B[1;33m(\u001B[0m\u001B[0maxis\u001B[0m\u001B[1;33m=\u001B[0m\u001B[0maxis\u001B[0m\u001B[1;33m,\u001B[0m \u001B[0mout\u001B[0m\u001B[1;33m=\u001B[0m\u001B[0mout\u001B[0m\u001B[1;33m,\u001B[0m \u001B[1;33m**\u001B[0m\u001B[0mpasskwargs\u001B[0m\u001B[1;33m)\u001B[0m\u001B[1;33m\u001B[0m\u001B[1;33m\u001B[0m\u001B[0m\n\u001B[0;32m     86\u001B[0m \u001B[1;33m\u001B[0m\u001B[0m\n\u001B[1;32m---> 87\u001B[1;33m     \u001B[1;32mreturn\u001B[0m \u001B[0mufunc\u001B[0m\u001B[1;33m.\u001B[0m\u001B[0mreduce\u001B[0m\u001B[1;33m(\u001B[0m\u001B[0mobj\u001B[0m\u001B[1;33m,\u001B[0m \u001B[0maxis\u001B[0m\u001B[1;33m,\u001B[0m \u001B[0mdtype\u001B[0m\u001B[1;33m,\u001B[0m \u001B[0mout\u001B[0m\u001B[1;33m,\u001B[0m \u001B[1;33m**\u001B[0m\u001B[0mpasskwargs\u001B[0m\u001B[1;33m)\u001B[0m\u001B[1;33m\u001B[0m\u001B[1;33m\u001B[0m\u001B[0m\n\u001B[0m\u001B[0;32m     88\u001B[0m \u001B[1;33m\u001B[0m\u001B[0m\n\u001B[0;32m     89\u001B[0m \u001B[1;33m\u001B[0m\u001B[0m\n",
      "\u001B[1;31mKeyboardInterrupt\u001B[0m: "
     ]
    }
   ]
  },
  {
   "cell_type": "code",
   "source": "#VAL\nval = train_df[train_df.id.isin(X_test)]\nroot = coco_structure(val)\n\nwith open('annotations_val.json', 'w', encoding='utf-8') as f:\n    json.dump(root, f, ensure_ascii=True, indent=4)",
   "metadata": {
    "execution": {
     "iopub.status.busy": "2021-12-29T09:07:58.345923Z",
     "iopub.execute_input": "2021-12-29T09:07:58.346282Z"
    },
    "trusted": true
   },
   "execution_count": null,
   "outputs": []
  },
  {
   "cell_type": "code",
   "source": "#ALL\n#val = train_df[train_df.id.isin(X_test)]\nroot = coco_structure(X_train+ X_test)\n\nwith open('annotations_all.json', 'w', encoding='utf-8') as f:\n    json.dump(root, f, ensure_ascii=True, indent=4)\n",
   "metadata": {
    "trusted": true
   },
   "execution_count": null,
   "outputs": []
  }
 ]
}